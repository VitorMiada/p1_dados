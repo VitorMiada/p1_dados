{
 "cells": [
  {
   "cell_type": "markdown",
   "metadata": {},
   "source": [
    "# Projeto 1 - Ciência dos Dados"
   ]
  },
  {
   "cell_type": "markdown",
   "metadata": {},
   "source": [
    "Nome: Amanda Carmo\n",
    "\n",
    "Nome: Vitor Miada"
   ]
  },
  {
   "cell_type": "markdown",
   "metadata": {},
   "source": [
    "Atenção: Serão permitidos grupos de três pessoas, mas com uma rubrica mais exigente. Grupos deste tamanho precisarão fazer um questionário de avaliação de trabalho em equipe"
   ]
  },
  {
   "cell_type": "markdown",
   "metadata": {},
   "source": [
    "___\n",
    "Carregando algumas bibliotecas:"
   ]
  },
  {
   "cell_type": "code",
   "execution_count": 24,
   "metadata": {},
   "outputs": [],
   "source": [
    "%matplotlib inline\n",
    "import pandas as pd\n",
    "import matplotlib.pyplot as plt\n",
    "import numpy as np\n",
    "import os"
   ]
  },
  {
   "cell_type": "code",
   "execution_count": 25,
   "metadata": {
    "scrolled": false
   },
   "outputs": [
    {
     "name": "stdout",
     "output_type": "stream",
     "text": [
      "Esperamos trabalhar no diretório\n",
      "C:\\Users\\User\\Desktop\\Insper\\2º Semestre\\Cdados2\\p1_dados\n"
     ]
    }
   ],
   "source": [
    "print('Esperamos trabalhar no diretório')\n",
    "print(os.getcwd())"
   ]
  },
  {
   "cell_type": "markdown",
   "metadata": {},
   "source": [
    "Carregando a base de dados com os tweets classificados como relevantes e não relevantes:"
   ]
  },
  {
   "cell_type": "code",
   "execution_count": 26,
   "metadata": {},
   "outputs": [
    {
     "data": {
      "text/html": [
       "<div>\n",
       "<style scoped>\n",
       "    .dataframe tbody tr th:only-of-type {\n",
       "        vertical-align: middle;\n",
       "    }\n",
       "\n",
       "    .dataframe tbody tr th {\n",
       "        vertical-align: top;\n",
       "    }\n",
       "\n",
       "    .dataframe thead th {\n",
       "        text-align: right;\n",
       "    }\n",
       "</style>\n",
       "<table border=\"1\" class=\"dataframe\">\n",
       "  <thead>\n",
       "    <tr style=\"text-align: right;\">\n",
       "      <th></th>\n",
       "      <th>Classificacao</th>\n",
       "      <th>Treinamento</th>\n",
       "    </tr>\n",
       "  </thead>\n",
       "  <tbody>\n",
       "    <tr>\n",
       "      <th>0</th>\n",
       "      <td>2</td>\n",
       "      <td>@smooyacs @mibr tomar no seu cu, tem quanros t...</td>\n",
       "    </tr>\n",
       "    <tr>\n",
       "      <th>1</th>\n",
       "      <td>3</td>\n",
       "      <td>mibr ta igual o cruzeiro kkkkkkkkkkkkkkkkkkkkk...</td>\n",
       "    </tr>\n",
       "    <tr>\n",
       "      <th>2</th>\n",
       "      <td>3</td>\n",
       "      <td>@maycon_design @mibr f brasileirinho eu sou a ...</td>\n",
       "    </tr>\n",
       "    <tr>\n",
       "      <th>3</th>\n",
       "      <td>3</td>\n",
       "      <td>@arthurmelo22_ @mibr @chaosec @envy tem boltz,...</td>\n",
       "    </tr>\n",
       "    <tr>\n",
       "      <th>4</th>\n",
       "      <td>2</td>\n",
       "      <td>@mibr @chaosec @envy piada kkkkkkkkkkkkkkkkkkk...</td>\n",
       "    </tr>\n",
       "  </tbody>\n",
       "</table>\n",
       "</div>"
      ],
      "text/plain": [
       "   Classificacao                                        Treinamento\n",
       "0              2  @smooyacs @mibr tomar no seu cu, tem quanros t...\n",
       "1              3  mibr ta igual o cruzeiro kkkkkkkkkkkkkkkkkkkkk...\n",
       "2              3  @maycon_design @mibr f brasileirinho eu sou a ...\n",
       "3              3  @arthurmelo22_ @mibr @chaosec @envy tem boltz,...\n",
       "4              2  @mibr @chaosec @envy piada kkkkkkkkkkkkkkkkkkk..."
      ]
     },
     "execution_count": 26,
     "metadata": {},
     "output_type": "execute_result"
    }
   ],
   "source": [
    "dados = pd.read_excel('mibr.xlsx', sheet_name='Treinamento')\n",
    "dados.head()"
   ]
  },
  {
   "cell_type": "code",
   "execution_count": 27,
   "metadata": {},
   "outputs": [
    {
     "data": {
      "text/html": [
       "<div>\n",
       "<style scoped>\n",
       "    .dataframe tbody tr th:only-of-type {\n",
       "        vertical-align: middle;\n",
       "    }\n",
       "\n",
       "    .dataframe tbody tr th {\n",
       "        vertical-align: top;\n",
       "    }\n",
       "\n",
       "    .dataframe thead th {\n",
       "        text-align: right;\n",
       "    }\n",
       "</style>\n",
       "<table border=\"1\" class=\"dataframe\">\n",
       "  <thead>\n",
       "    <tr style=\"text-align: right;\">\n",
       "      <th></th>\n",
       "      <th>Classificação</th>\n",
       "      <th>Teste</th>\n",
       "    </tr>\n",
       "  </thead>\n",
       "  <tbody>\n",
       "    <tr>\n",
       "      <th>0</th>\n",
       "      <td>1</td>\n",
       "      <td>cs é um bom exemplo do quanto a experiencia in...</td>\n",
       "    </tr>\n",
       "    <tr>\n",
       "      <th>1</th>\n",
       "      <td>2</td>\n",
       "      <td>acho que o time precisa de uma pausa, tentar p...</td>\n",
       "    </tr>\n",
       "    <tr>\n",
       "      <th>2</th>\n",
       "      <td>3</td>\n",
       "      <td>mano, o que ta acontecendo com a mibr</td>\n",
       "    </tr>\n",
       "    <tr>\n",
       "      <th>3</th>\n",
       "      <td>3</td>\n",
       "      <td>@rafael_loppes1 @mibr @abcfc eu tava acompanha...</td>\n",
       "    </tr>\n",
       "    <tr>\n",
       "      <th>4</th>\n",
       "      <td>3</td>\n",
       "      <td>mibr decepcionou hoje :/ pelo menos to feliz p...</td>\n",
       "    </tr>\n",
       "  </tbody>\n",
       "</table>\n",
       "</div>"
      ],
      "text/plain": [
       "   Classificação                                              Teste\n",
       "0              1  cs é um bom exemplo do quanto a experiencia in...\n",
       "1              2  acho que o time precisa de uma pausa, tentar p...\n",
       "2              3              mano, o que ta acontecendo com a mibr\n",
       "3              3  @rafael_loppes1 @mibr @abcfc eu tava acompanha...\n",
       "4              3  mibr decepcionou hoje :/ pelo menos to feliz p..."
      ]
     },
     "execution_count": 27,
     "metadata": {},
     "output_type": "execute_result"
    }
   ],
   "source": [
    "dados_teste = pd.read_excel('mibr.xlsx', sheet_name='Teste')\n",
    "\n",
    "#renomeando coluna de teste a fim de diferenciar classificação manual e da máquina.\n",
    "dados_teste.rename(columns={'Unnamed: 1':'Classificação manual'}, inplace=True) \n",
    "dados_teste.head()"
   ]
  },
  {
   "cell_type": "markdown",
   "metadata": {},
   "source": [
    "___\n",
    "# Classificador automático de sentimento\n"
   ]
  },
  {
   "cell_type": "markdown",
   "metadata": {},
   "source": [
    "Faça aqui uma descrição do seu produto e o que considerou como relevante ou não relevante na classificação dos tweets.\n",
    "\n",
    "O produto a ser analisado, é de um time profissional de \"Counter Strike Global Offensive\" (CSGO), chamado MIBR. O time na época passa por uma derrota e portanto queremos analisar como seus torcedores agem em relação a isso. Foram considerados relevantes, tweets que mostrem satisfação ou insatisfação sobre a organização e **não** sobre a composição do time."
   ]
  },
  {
   "cell_type": "markdown",
   "metadata": {},
   "source": [
    "ESCREVER AQUI"
   ]
  },
  {
   "cell_type": "markdown",
   "metadata": {},
   "source": [
    "### Limpezas dos tweets:"
   ]
  },
  {
   "cell_type": "code",
   "execution_count": 28,
   "metadata": {},
   "outputs": [],
   "source": [
    "import re \n",
    "\n",
    "def cleanup(text):\n",
    "    \n",
    "    #Função para substituir pontos por espaços.    \n",
    "    punctuation = '[!\\-.:?;•,]' #Pontuações que vão ser excluídas.\n",
    "    pattern = re.compile(punctuation)\n",
    "    text_subbed = re.sub(pattern, ' ', text)\n",
    "    \n",
    "    return text_subbed"
   ]
  },
  {
   "cell_type": "markdown",
   "metadata": {},
   "source": [
    "#### Assinala-se que as classificações são variáveis qualitativas"
   ]
  },
  {
   "cell_type": "code",
   "execution_count": 29,
   "metadata": {},
   "outputs": [],
   "source": [
    "dados['Classificacao'] = dados['Classificacao'].astype('category')"
   ]
  },
  {
   "cell_type": "code",
   "execution_count": 30,
   "metadata": {},
   "outputs": [
    {
     "data": {
      "text/plain": [
       "Index(['P', 'I', 'N'], dtype='object')"
      ]
     },
     "execution_count": 30,
     "metadata": {},
     "output_type": "execute_result"
    }
   ],
   "source": [
    "dados['Classificacao'].cat.categories = ['P', 'I', 'N']\n",
    "\n",
    "# Visualizando o resultado\n",
    "dados['Classificacao'].cat.categories"
   ]
  },
  {
   "cell_type": "code",
   "execution_count": 31,
   "metadata": {},
   "outputs": [
    {
     "data": {
      "text/plain": [
       "0    I\n",
       "1    N\n",
       "2    N\n",
       "3    N\n",
       "4    I\n",
       "Name: Classificacao, dtype: category\n",
       "Categories (3, object): [P, I, N]"
      ]
     },
     "execution_count": 31,
     "metadata": {},
     "output_type": "execute_result"
    }
   ],
   "source": [
    "dados['Classificacao'].head(5)"
   ]
  },
  {
   "cell_type": "markdown",
   "metadata": {},
   "source": [
    "___\n",
    "## Montando um Classificador Naive-Bayes\n",
    "\n",
    "Considerando apenas as mensagens da planilha Treinamento, ensine  seu classificador."
   ]
  },
  {
   "cell_type": "code",
   "execution_count": 32,
   "metadata": {},
   "outputs": [
    {
     "data": {
      "text/plain": [
       "I    0.5550\n",
       "N    0.3075\n",
       "P    0.1375\n",
       "Name: Classificacao, dtype: float64"
      ]
     },
     "execution_count": 32,
     "metadata": {},
     "output_type": "execute_result"
    }
   ],
   "source": [
    "# P(P), P(I), P(N)\n",
    "dados.Classificacao.value_counts(True)"
   ]
  },
  {
   "cell_type": "code",
   "execution_count": null,
   "metadata": {},
   "outputs": [],
   "source": []
  },
  {
   "cell_type": "markdown",
   "metadata": {},
   "source": [
    "### <font color='#005675'>Funções para frequências</font>"
   ]
  },
  {
   "cell_type": "markdown",
   "metadata": {},
   "source": [
    "Para obter-se a frequência relativa, conforme visto na aula, precisa-se inicialmente do comando `split()` e em seguida tranformar os dados em uma série do pandas, com `pd.Series()`, tal como foi usado a seguir."
   ]
  },
  {
   "cell_type": "markdown",
   "metadata": {},
   "source": [
    "Para uma limpeza adicional, foi adicionado às funções `re.sub(r'http\\S+', '', tw_completo)`, o qual remove os http que podem intervir na classificação."
   ]
  },
  {
   "cell_type": "markdown",
   "metadata": {},
   "source": [
    "#### <font color='#005675'>Frequência Relativa</font>"
   ]
  },
  {
   "cell_type": "code",
   "execution_count": 56,
   "metadata": {},
   "outputs": [],
   "source": [
    "def Frequencia_Relativa(cat):\n",
    "    #tira espaços\n",
    "    tweet = ' '.join(str(cat) for cat in dados[dados.Classificacao==cat].Treinamento)\n",
    "    \n",
    "    #Extra: remoção dos \"http\" para não enviezar o classificador.\n",
    "    remove_http = re.sub(r'http\\S+', '', tweet)\n",
    "    text_clean = cleanup(remove_http)\n",
    "    \n",
    "    #split() e pd.Series()\n",
    "    serie_dados = text_clean.split()\n",
    "    freq_rel = pd.Series(serie_dados).value_counts(True)\n",
    "    \n",
    "    return freq_rel"
   ]
  },
  {
   "cell_type": "code",
   "execution_count": 57,
   "metadata": {},
   "outputs": [
    {
     "data": {
      "text/plain": [
       "e       0.027061\n",
       "que     0.025802\n",
       "a       0.023285\n",
       "de      0.022026\n",
       "mibr    0.020768\n",
       "dtype: float64"
      ]
     },
     "execution_count": 57,
     "metadata": {},
     "output_type": "execute_result"
    }
   ],
   "source": [
    "# P(palavra|P)\n",
    "Frequencia_Relativa('P').head()\n"
   ]
  },
  {
   "cell_type": "code",
   "execution_count": 58,
   "metadata": {},
   "outputs": [
    {
     "data": {
      "text/plain": [
       "@mibr    0.030651\n",
       "mibr     0.028948\n",
       "que      0.025543\n",
       "o        0.024691\n",
       "e        0.023414\n",
       "dtype: float64"
      ]
     },
     "execution_count": 58,
     "metadata": {},
     "output_type": "execute_result"
    }
   ],
   "source": [
    "# P(palavra|N)\n",
    "Frequencia_Relativa('N').head()"
   ]
  },
  {
   "cell_type": "code",
   "execution_count": 59,
   "metadata": {},
   "outputs": [
    {
     "data": {
      "text/plain": [
       "o        0.031155\n",
       "@mibr    0.028775\n",
       "a        0.024232\n",
       "mibr     0.023799\n",
       "que      0.022068\n",
       "dtype: float64"
      ]
     },
     "execution_count": 59,
     "metadata": {},
     "output_type": "execute_result"
    }
   ],
   "source": [
    "# P(palavra|I)\n",
    "Frequencia_Relativa('I').head()"
   ]
  },
  {
   "cell_type": "code",
   "execution_count": 60,
   "metadata": {},
   "outputs": [
    {
     "data": {
      "text/html": [
       "<div>\n",
       "<style scoped>\n",
       "    .dataframe tbody tr th:only-of-type {\n",
       "        vertical-align: middle;\n",
       "    }\n",
       "\n",
       "    .dataframe tbody tr th {\n",
       "        vertical-align: top;\n",
       "    }\n",
       "\n",
       "    .dataframe thead th {\n",
       "        text-align: right;\n",
       "    }\n",
       "</style>\n",
       "<table border=\"1\" class=\"dataframe\">\n",
       "  <thead>\n",
       "    <tr style=\"text-align: right;\">\n",
       "      <th></th>\n",
       "      <th>Classificacao</th>\n",
       "      <th>Treinamento</th>\n",
       "    </tr>\n",
       "  </thead>\n",
       "  <tbody>\n",
       "    <tr>\n",
       "      <th>10</th>\n",
       "      <td>P</td>\n",
       "      <td>@vrf_jt @mibr @chaosec @envy assim espero, são...</td>\n",
       "    </tr>\n",
       "    <tr>\n",
       "      <th>13</th>\n",
       "      <td>P</td>\n",
       "      <td>@fafonaves @roque_mn lembra do flamengo? fase ...</td>\n",
       "    </tr>\n",
       "    <tr>\n",
       "      <th>14</th>\n",
       "      <td>P</td>\n",
       "      <td>@mibr @chaosec @envy por favor, chamem o @zorl...</td>\n",
       "    </tr>\n",
       "    <tr>\n",
       "      <th>21</th>\n",
       "      <td>P</td>\n",
       "      <td>@chaosec @mibr @geng @flashpoint @joshnissan @...</td>\n",
       "    </tr>\n",
       "    <tr>\n",
       "      <th>39</th>\n",
       "      <td>P</td>\n",
       "      <td>rt @guizaokemen: meu único pedido de aniversár...</td>\n",
       "    </tr>\n",
       "  </tbody>\n",
       "</table>\n",
       "</div>"
      ],
      "text/plain": [
       "   Classificacao                                        Treinamento\n",
       "10             P  @vrf_jt @mibr @chaosec @envy assim espero, são...\n",
       "13             P  @fafonaves @roque_mn lembra do flamengo? fase ...\n",
       "14             P  @mibr @chaosec @envy por favor, chamem o @zorl...\n",
       "21             P  @chaosec @mibr @geng @flashpoint @joshnissan @...\n",
       "39             P  rt @guizaokemen: meu único pedido de aniversár..."
      ]
     },
     "execution_count": 60,
     "metadata": {},
     "output_type": "execute_result"
    }
   ],
   "source": [
    "dados_P = dados[dados.Classificacao == 'P'].copy()\n",
    "dados_P.head(5)"
   ]
  },
  {
   "cell_type": "code",
   "execution_count": 61,
   "metadata": {},
   "outputs": [
    {
     "data": {
      "text/html": [
       "<div>\n",
       "<style scoped>\n",
       "    .dataframe tbody tr th:only-of-type {\n",
       "        vertical-align: middle;\n",
       "    }\n",
       "\n",
       "    .dataframe tbody tr th {\n",
       "        vertical-align: top;\n",
       "    }\n",
       "\n",
       "    .dataframe thead th {\n",
       "        text-align: right;\n",
       "    }\n",
       "</style>\n",
       "<table border=\"1\" class=\"dataframe\">\n",
       "  <thead>\n",
       "    <tr style=\"text-align: right;\">\n",
       "      <th></th>\n",
       "      <th>Classificacao</th>\n",
       "      <th>Treinamento</th>\n",
       "    </tr>\n",
       "  </thead>\n",
       "  <tbody>\n",
       "    <tr>\n",
       "      <th>0</th>\n",
       "      <td>I</td>\n",
       "      <td>@smooyacs @mibr tomar no seu cu, tem quanros t...</td>\n",
       "    </tr>\n",
       "    <tr>\n",
       "      <th>4</th>\n",
       "      <td>I</td>\n",
       "      <td>@mibr @chaosec @envy piada kkkkkkkkkkkkkkkkkkk...</td>\n",
       "    </tr>\n",
       "    <tr>\n",
       "      <th>5</th>\n",
       "      <td>I</td>\n",
       "      <td>@eldereti @mibr @chaosec @envy obrigado china</td>\n",
       "    </tr>\n",
       "    <tr>\n",
       "      <th>6</th>\n",
       "      <td>I</td>\n",
       "      <td>@eldereti @bida @mibr @flashpoint @chaosec tá ...</td>\n",
       "    </tr>\n",
       "    <tr>\n",
       "      <th>12</th>\n",
       "      <td>I</td>\n",
       "      <td>@mibr @chaosec @envy fechem as portas..</td>\n",
       "    </tr>\n",
       "  </tbody>\n",
       "</table>\n",
       "</div>"
      ],
      "text/plain": [
       "   Classificacao                                        Treinamento\n",
       "0              I  @smooyacs @mibr tomar no seu cu, tem quanros t...\n",
       "4              I  @mibr @chaosec @envy piada kkkkkkkkkkkkkkkkkkk...\n",
       "5              I      @eldereti @mibr @chaosec @envy obrigado china\n",
       "6              I  @eldereti @bida @mibr @flashpoint @chaosec tá ...\n",
       "12             I            @mibr @chaosec @envy fechem as portas.."
      ]
     },
     "execution_count": 61,
     "metadata": {},
     "output_type": "execute_result"
    }
   ],
   "source": [
    "dados_I = dados[dados.Classificacao == 'I'].copy()\n",
    "dados_I.head(5)"
   ]
  },
  {
   "cell_type": "code",
   "execution_count": 62,
   "metadata": {},
   "outputs": [
    {
     "data": {
      "text/html": [
       "<div>\n",
       "<style scoped>\n",
       "    .dataframe tbody tr th:only-of-type {\n",
       "        vertical-align: middle;\n",
       "    }\n",
       "\n",
       "    .dataframe tbody tr th {\n",
       "        vertical-align: top;\n",
       "    }\n",
       "\n",
       "    .dataframe thead th {\n",
       "        text-align: right;\n",
       "    }\n",
       "</style>\n",
       "<table border=\"1\" class=\"dataframe\">\n",
       "  <thead>\n",
       "    <tr style=\"text-align: right;\">\n",
       "      <th></th>\n",
       "      <th>Classificacao</th>\n",
       "      <th>Treinamento</th>\n",
       "    </tr>\n",
       "  </thead>\n",
       "  <tbody>\n",
       "    <tr>\n",
       "      <th>1</th>\n",
       "      <td>N</td>\n",
       "      <td>mibr ta igual o cruzeiro kkkkkkkkkkkkkkkkkkkkk...</td>\n",
       "    </tr>\n",
       "    <tr>\n",
       "      <th>2</th>\n",
       "      <td>N</td>\n",
       "      <td>@maycon_design @mibr f brasileirinho eu sou a ...</td>\n",
       "    </tr>\n",
       "    <tr>\n",
       "      <th>3</th>\n",
       "      <td>N</td>\n",
       "      <td>@arthurmelo22_ @mibr @chaosec @envy tem boltz,...</td>\n",
       "    </tr>\n",
       "    <tr>\n",
       "      <th>7</th>\n",
       "      <td>N</td>\n",
       "      <td>@gio_fps mas esperar que a comunidade motive e...</td>\n",
       "    </tr>\n",
       "    <tr>\n",
       "      <th>8</th>\n",
       "      <td>N</td>\n",
       "      <td>@gaules o chaos não existia na cenário do mund...</td>\n",
       "    </tr>\n",
       "  </tbody>\n",
       "</table>\n",
       "</div>"
      ],
      "text/plain": [
       "  Classificacao                                        Treinamento\n",
       "1             N  mibr ta igual o cruzeiro kkkkkkkkkkkkkkkkkkkkk...\n",
       "2             N  @maycon_design @mibr f brasileirinho eu sou a ...\n",
       "3             N  @arthurmelo22_ @mibr @chaosec @envy tem boltz,...\n",
       "7             N  @gio_fps mas esperar que a comunidade motive e...\n",
       "8             N  @gaules o chaos não existia na cenário do mund..."
      ]
     },
     "execution_count": 62,
     "metadata": {},
     "output_type": "execute_result"
    }
   ],
   "source": [
    "dados_N = dados[dados.Classificacao == 'N'].copy()\n",
    "dados_N.head(5)"
   ]
  },
  {
   "cell_type": "markdown",
   "metadata": {},
   "source": [
    "#### <font color='#005675'>Frequência Absoluta</font>"
   ]
  },
  {
   "cell_type": "code",
   "execution_count": 79,
   "metadata": {},
   "outputs": [],
   "source": [
    "def Frequencia_Absoluta(cat):\n",
    "    \n",
    "    tweet = ' '.join(str(cat) for cat in dados[dados.Classificacao==cat].Treinamento)\n",
    "    remove_http = re.sub(r'http\\S+', '', tweet)\n",
    "    \n",
    "    text_clean = cleanup(remove_http)\n",
    "    serie_dados = text_clean.split()\n",
    "    freq_abs = pd.Series(serie_dados).value_counts(True)\n",
    "    \n",
    "    return freq_abs"
   ]
  },
  {
   "cell_type": "code",
   "execution_count": 80,
   "metadata": {},
   "outputs": [
    {
     "data": {
      "text/plain": [
       "e       0.027061\n",
       "que     0.025802\n",
       "a       0.023285\n",
       "de      0.022026\n",
       "mibr    0.020768\n",
       "dtype: float64"
      ]
     },
     "execution_count": 80,
     "metadata": {},
     "output_type": "execute_result"
    }
   ],
   "source": [
    "Frequencia_Absoluta('P').head()"
   ]
  },
  {
   "cell_type": "code",
   "execution_count": 81,
   "metadata": {},
   "outputs": [
    {
     "data": {
      "text/plain": [
       "@mibr    0.030651\n",
       "mibr     0.028948\n",
       "que      0.025543\n",
       "o        0.024691\n",
       "e        0.023414\n",
       "dtype: float64"
      ]
     },
     "execution_count": 81,
     "metadata": {},
     "output_type": "execute_result"
    }
   ],
   "source": [
    "Frequencia_Absoluta('N').head()"
   ]
  },
  {
   "cell_type": "code",
   "execution_count": 82,
   "metadata": {},
   "outputs": [
    {
     "data": {
      "text/plain": [
       "o        0.031155\n",
       "@mibr    0.028775\n",
       "a        0.024232\n",
       "mibr     0.023799\n",
       "que      0.022068\n",
       "dtype: float64"
      ]
     },
     "execution_count": 82,
     "metadata": {},
     "output_type": "execute_result"
    }
   ],
   "source": [
    "Frequencia_Absoluta('I').head()"
   ]
  },
  {
   "cell_type": "markdown",
   "metadata": {},
   "source": [
    "### <font color='#005675'>Probabilidades</font>"
   ]
  },
  {
   "cell_type": "code",
   "execution_count": 125,
   "metadata": {},
   "outputs": [
    {
     "name": "stdout",
     "output_type": "stream",
     "text": [
      "Quantidade de palavras em tweets irrelevantes:\n",
      "4622\n",
      "\n",
      "Quantidade de palavras em tweets positivos:\n",
      "1589\n",
      "\n",
      "Quantidade de palavras em tweets negativos:\n",
      "2349\n"
     ]
    }
   ],
   "source": [
    "def clean_extra(cat):\n",
    "    tweet = ' '.join(str(cat) for cat in dados[dados.Classificacao==cat].Treinamento)\n",
    "    remove_http = re.sub(r'http\\S+','', tweet)    \n",
    "    text_clean = cleanup(remove_http)\n",
    "    clean_tweet = text_clean.split() \n",
    "    serie_tweet = pd.Series(clean_tweet)\n",
    "\n",
    "    return serie_tweet\n",
    "\n",
    "tweet_I = clean_extra('I')\n",
    "tweet_P = clean_extra('P')\n",
    "tweet_N = clean_extra('N')\n",
    "\n",
    "\n",
    "\n",
    "print(\"Quantidade de palavras em tweets irrelevantes:\")\n",
    "print(len(tweet_I))\n",
    "print('')\n",
    "print(\"Quantidade de palavras em tweets positivos:\")\n",
    "print(len(tweet_P))\n",
    "print('')\n",
    "print(\"Quantidade de palavras em tweets negativos:\")\n",
    "print(len(tweet_N))"
   ]
  },
  {
   "cell_type": "code",
   "execution_count": 126,
   "metadata": {},
   "outputs": [],
   "source": [
    "all_tweets = tweet_I + tweet_N + tweet_P"
   ]
  },
  {
   "cell_type": "code",
   "execution_count": 127,
   "metadata": {},
   "outputs": [
    {
     "data": {
      "text/plain": [
       "0    @smooyacsmibr@vrf_jt\n",
       "1            @mibrta@mibr\n",
       "2      tomarigual@chaosec\n",
       "3                noo@envy\n",
       "4        seucruzeiroassim\n",
       "dtype: object"
      ]
     },
     "execution_count": 127,
     "metadata": {},
     "output_type": "execute_result"
    }
   ],
   "source": [
    "all_tweets.head()"
   ]
  },
  {
   "cell_type": "code",
   "execution_count": 128,
   "metadata": {},
   "outputs": [
    {
     "data": {
      "text/plain": [
       "8559"
      ]
     },
     "execution_count": 128,
     "metadata": {},
     "output_type": "execute_result"
    }
   ],
   "source": [
    "all_quant = len(serie_all)\n",
    "all_quant"
   ]
  },
  {
   "cell_type": "code",
   "execution_count": 129,
   "metadata": {},
   "outputs": [],
   "source": [
    "def prob_category(cat):\n",
    "    tweet = clean_extra(cat)\n",
    "    prob = len(tweet)/all_quant\n",
    "    return prob"
   ]
  },
  {
   "cell_type": "code",
   "execution_count": 130,
   "metadata": {},
   "outputs": [
    {
     "data": {
      "text/plain": [
       "0.5400163570510573"
      ]
     },
     "execution_count": 130,
     "metadata": {},
     "output_type": "execute_result"
    }
   ],
   "source": [
    "prob_I = prob_category('I')\n",
    "prob_I"
   ]
  },
  {
   "cell_type": "code",
   "execution_count": 131,
   "metadata": {},
   "outputs": [
    {
     "data": {
      "text/plain": [
       "0.18565252950110994"
      ]
     },
     "execution_count": 131,
     "metadata": {},
     "output_type": "execute_result"
    }
   ],
   "source": [
    "prob_P = prob_category('P')\n",
    "prob_P"
   ]
  },
  {
   "cell_type": "code",
   "execution_count": 132,
   "metadata": {},
   "outputs": [
    {
     "data": {
      "text/plain": [
       "0.2744479495268139"
      ]
     },
     "execution_count": 132,
     "metadata": {},
     "output_type": "execute_result"
    }
   ],
   "source": [
    "prob_N = prob_category('N')\n",
    "prob_N"
   ]
  },
  {
   "cell_type": "markdown",
   "metadata": {},
   "source": [
    "___\n",
    "### Verificando a performance do Classificador\n",
    "\n",
    "Agora você deve testar o seu classificador com a base de Testes."
   ]
  },
  {
   "cell_type": "code",
   "execution_count": null,
   "metadata": {},
   "outputs": [],
   "source": []
  },
  {
   "cell_type": "code",
   "execution_count": null,
   "metadata": {},
   "outputs": [],
   "source": []
  },
  {
   "cell_type": "code",
   "execution_count": null,
   "metadata": {},
   "outputs": [],
   "source": []
  },
  {
   "cell_type": "markdown",
   "metadata": {},
   "source": [
    "___\n",
    "### Concluindo"
   ]
  },
  {
   "cell_type": "code",
   "execution_count": null,
   "metadata": {},
   "outputs": [],
   "source": []
  },
  {
   "cell_type": "code",
   "execution_count": null,
   "metadata": {},
   "outputs": [],
   "source": []
  },
  {
   "cell_type": "markdown",
   "metadata": {},
   "source": [
    "___\n",
    "## Aperfeiçoamento:\n",
    "\n",
    "Os trabalhos vão evoluir em conceito dependendo da quantidade de itens avançados:\n",
    "\n",
    "* Limpar: \\n, :, \", ', (, ), etc SEM remover emojis\n",
    "* Corrigir separação de espaços entre palavras e emojis ou entre emojis e emojis\n",
    "* Propor outras limpezas e transformações que não afetem a qualidade da informação ou classificação\n",
    "* Criar categorias intermediárias de relevância baseadas na probabilidade: ex.: muito relevante, relevante, neutro, irrelevante, muito irrelevante (3 categorias: C, mais categorias conta para B)\n",
    "* Explicar por que não posso usar o próprio classificador para gerar mais amostras de treinamento\n",
    "* Propor diferentes cenários para Naïve Bayes fora do contexto do projeto\n",
    "* Sugerir e explicar melhorias reais com indicações concretas de como implementar (indicar como fazer e indicar material de pesquisa)\n",
    "* Montar um dashboard que periodicamente realiza análise de sentimento e visualiza estes dados"
   ]
  },
  {
   "cell_type": "markdown",
   "metadata": {},
   "source": [
    "___\n",
    "## Referências"
   ]
  },
  {
   "cell_type": "markdown",
   "metadata": {},
   "source": [
    "[Naive Bayes and Text Classification](https://arxiv.org/pdf/1410.5329.pdf)  **Mais completo**\n",
    "\n",
    "[A practical explanation of a Naive Bayes Classifier](https://monkeylearn.com/blog/practical-explanation-naive-bayes-classifier/) **Mais simples**"
   ]
  },
  {
   "cell_type": "code",
   "execution_count": null,
   "metadata": {},
   "outputs": [],
   "source": []
  }
 ],
 "metadata": {
  "kernelspec": {
   "display_name": "Python 3",
   "language": "python",
   "name": "python3"
  },
  "language_info": {
   "codemirror_mode": {
    "name": "ipython",
    "version": 3
   },
   "file_extension": ".py",
   "mimetype": "text/x-python",
   "name": "python",
   "nbconvert_exporter": "python",
   "pygments_lexer": "ipython3",
   "version": "3.7.1"
  }
 },
 "nbformat": 4,
 "nbformat_minor": 4
}
